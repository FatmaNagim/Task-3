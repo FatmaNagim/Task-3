{
 "cells": [
  {
   "cell_type": "code",
   "execution_count": 1,
   "id": "8e4ea5c3",
   "metadata": {},
   "outputs": [],
   "source": [
    "from tensorflow.keras.utils import get_file"
   ]
  },
  {
   "cell_type": "code",
   "execution_count": 2,
   "id": "468bc342",
   "metadata": {},
   "outputs": [],
   "source": [
    "ds_url = 'https://datashare.is.ed.ac.uk/bitstream/handle/10283/3192/CINIC-10.tar.gz?sequence=4&isAllowed=y'\n",
    "file_name ='cinic10.tar.gz'"
   ]
  },
  {
   "cell_type": "code",
   "execution_count": 3,
   "id": "2f0d85b4",
   "metadata": {},
   "outputs": [],
   "source": [
    "downloaded_file_location = get_file(origin=ds_url, fname=file_name, extract=False)"
   ]
  },
  {
   "cell_type": "code",
   "execution_count": null,
   "id": "800ccf22",
   "metadata": {},
   "outputs": [],
   "source": []
  }
 ],
 "metadata": {
  "kernelspec": {
   "display_name": "Python 3",
   "language": "python",
   "name": "python3"
  },
  "language_info": {
   "codemirror_mode": {
    "name": "ipython",
    "version": 3
   },
   "file_extension": ".py",
   "mimetype": "text/x-python",
   "name": "python",
   "nbconvert_exporter": "python",
   "pygments_lexer": "ipython3",
   "version": "3.8.8"
  }
 },
 "nbformat": 4,
 "nbformat_minor": 5
}
